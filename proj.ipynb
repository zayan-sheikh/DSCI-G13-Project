{
 "cells": [
  {
   "cell_type": "code",
   "execution_count": 1,
   "id": "1d028098-e36c-4c64-a7e4-8de4090a7e4a",
   "metadata": {},
   "outputs": [
    {
     "name": "stderr",
     "output_type": "stream",
     "text": [
      "── \u001b[1mAttaching core tidyverse packages\u001b[22m ──────────────────────── tidyverse 2.0.0 ──\n",
      "\u001b[32m✔\u001b[39m \u001b[34mdplyr    \u001b[39m 1.1.3     \u001b[32m✔\u001b[39m \u001b[34mreadr    \u001b[39m 2.1.4\n",
      "\u001b[32m✔\u001b[39m \u001b[34mforcats  \u001b[39m 1.0.0     \u001b[32m✔\u001b[39m \u001b[34mstringr  \u001b[39m 1.5.0\n",
      "\u001b[32m✔\u001b[39m \u001b[34mggplot2  \u001b[39m 3.4.4     \u001b[32m✔\u001b[39m \u001b[34mtibble   \u001b[39m 3.2.1\n",
      "\u001b[32m✔\u001b[39m \u001b[34mlubridate\u001b[39m 1.9.3     \u001b[32m✔\u001b[39m \u001b[34mtidyr    \u001b[39m 1.3.0\n",
      "\u001b[32m✔\u001b[39m \u001b[34mpurrr    \u001b[39m 1.0.2     \n",
      "── \u001b[1mConflicts\u001b[22m ────────────────────────────────────────── tidyverse_conflicts() ──\n",
      "\u001b[31m✖\u001b[39m \u001b[34mdplyr\u001b[39m::\u001b[32mfilter()\u001b[39m masks \u001b[34mstats\u001b[39m::filter()\n",
      "\u001b[31m✖\u001b[39m \u001b[34mdplyr\u001b[39m::\u001b[32mlag()\u001b[39m    masks \u001b[34mstats\u001b[39m::lag()\n",
      "\u001b[36mℹ\u001b[39m Use the conflicted package (\u001b[3m\u001b[34m<http://conflicted.r-lib.org/>\u001b[39m\u001b[23m) to force all conflicts to become errors\n",
      "Warning message in download.file(\"http://www.newcl.org/data/zipfiles/a1.zip\", temp):\n",
      "“URL 'http://www.newcl.org/data/zipfiles/a1.zip': status was 'Couldn't resolve host name'”\n"
     ]
    },
    {
     "ename": "ERROR",
     "evalue": "Error in download.file(\"http://www.newcl.org/data/zipfiles/a1.zip\", temp): cannot open URL 'http://www.newcl.org/data/zipfiles/a1.zip'\n",
     "output_type": "error",
     "traceback": [
      "Error in download.file(\"http://www.newcl.org/data/zipfiles/a1.zip\", temp): cannot open URL 'http://www.newcl.org/data/zipfiles/a1.zip'\nTraceback:\n",
      "1. download.file(\"http://www.newcl.org/data/zipfiles/a1.zip\", temp)"
     ]
    }
   ],
   "source": [
    "library(tidyverse)\n",
    "\n",
    "read_csv(\"\")"
   ]
  },
  {
   "cell_type": "code",
   "execution_count": null,
   "id": "938a098f-ae54-4890-a585-ecde286eb9d9",
   "metadata": {},
   "outputs": [],
   "source": []
  }
 ],
 "metadata": {
  "kernelspec": {
   "display_name": "R",
   "language": "R",
   "name": "ir"
  },
  "language_info": {
   "codemirror_mode": "r",
   "file_extension": ".r",
   "mimetype": "text/x-r-source",
   "name": "R",
   "pygments_lexer": "r",
   "version": "4.3.1"
  }
 },
 "nbformat": 4,
 "nbformat_minor": 5
}
